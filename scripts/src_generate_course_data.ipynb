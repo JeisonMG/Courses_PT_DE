{
 "cells": [
  {
   "cell_type": "markdown",
   "metadata": {
    "application/vnd.databricks.v1+cell": {
     "cellMetadata": {
      "byteLimit": 2048000,
      "rowLimit": 10000
     },
     "inputWidgets": {},
     "nuid": "59066a10-cf38-49d3-aeb1-8ed567d888de",
     "showTitle": false,
     "title": ""
    }
   },
   "source": [
    "### Libraries"
   ]
  },
  {
   "cell_type": "code",
   "execution_count": 0,
   "metadata": {
    "application/vnd.databricks.v1+cell": {
     "cellMetadata": {
      "byteLimit": 2048000,
      "rowLimit": 10000
     },
     "inputWidgets": {},
     "nuid": "39832848-5a14-4532-8e2f-15344eb8be16",
     "showTitle": false,
     "title": ""
    }
   },
   "outputs": [],
   "source": [
    "# import libraries\n",
    "from pyspark.sql import SparkSession\n",
    "import pandas as pd\n",
    "import numpy as np\n",
    "from datetime import datetime"
   ]
  },
  {
   "cell_type": "markdown",
   "metadata": {
    "application/vnd.databricks.v1+cell": {
     "cellMetadata": {
      "byteLimit": 2048000,
      "rowLimit": 10000
     },
     "inputWidgets": {},
     "nuid": "663565e6-9e1f-479a-9ff3-69b6a0a9f55a",
     "showTitle": false,
     "title": ""
    }
   },
   "source": [
    "### Configure environment"
   ]
  },
  {
   "cell_type": "code",
   "execution_count": 0,
   "metadata": {
    "application/vnd.databricks.v1+cell": {
     "cellMetadata": {
      "byteLimit": 2048000,
      "rowLimit": 10000
     },
     "inputWidgets": {},
     "nuid": "94c42a2c-b016-4526-8aeb-364328067fc7",
     "showTitle": false,
     "title": ""
    }
   },
   "outputs": [],
   "source": [
    "# Datalake connection variables\n",
    "storage_account_name    = \"dlptde\"\n",
    "container_name          = \"data-pt-de\"\n",
    "sas_token               = \"sp=racwdle&st=2024-04-24T20:31:21Z&se=2024-05-04T04:31:21Z&spr=https&sv=2022-11-02&sr=c&sig=8g%2B97QOqHn9A6UebuEV0PYbJnCBfZSg2fim%2FsprqfCU%3D\"\n",
    "\n",
    "# Apply settings\n",
    "spark.conf.set(\n",
    "    f\"fs.azure.sas.{container_name}.{storage_account_name}.blob.core.windows.net\",\n",
    "    sas_token\n",
    ")"
   ]
  },
  {
   "cell_type": "markdown",
   "metadata": {
    "application/vnd.databricks.v1+cell": {
     "cellMetadata": {
      "byteLimit": 2048000,
      "rowLimit": 10000
     },
     "inputWidgets": {},
     "nuid": "93ab3f0d-d453-452b-8ac5-e6becaab91ae",
     "showTitle": false,
     "title": ""
    }
   },
   "source": [
    "### Save paths"
   ]
  },
  {
   "cell_type": "code",
   "execution_count": 0,
   "metadata": {
    "application/vnd.databricks.v1+cell": {
     "cellMetadata": {
      "byteLimit": 2048000,
      "rowLimit": 10000
     },
     "inputWidgets": {},
     "nuid": "56036566-44cb-458f-9205-b67acd0b2405",
     "showTitle": false,
     "title": ""
    }
   },
   "outputs": [],
   "source": [
    "# Save destination paths\n",
    "comun_path                  = f\"wasbs://{container_name}@{storage_account_name}.blob.core.windows.net\"\n",
    "\n",
    "categories_destination_path = f\"{comun_path}/categories_data.csv\"\n",
    "levels_destination_path     = f\"{comun_path}/levels_data.csv\"\n",
    "courses_destination_path    = f\"{comun_path}/courses.parquet\""
   ]
  },
  {
   "cell_type": "markdown",
   "metadata": {
    "application/vnd.databricks.v1+cell": {
     "cellMetadata": {
      "byteLimit": 2048000,
      "rowLimit": 10000
     },
     "inputWidgets": {},
     "nuid": "a2832d95-23de-4f50-b4ec-6719d1aede1a",
     "showTitle": false,
     "title": ""
    }
   },
   "source": [
    "### Generate Data"
   ]
  },
  {
   "cell_type": "code",
   "execution_count": 0,
   "metadata": {
    "application/vnd.databricks.v1+cell": {
     "cellMetadata": {
      "byteLimit": 2048000,
      "rowLimit": 10000
     },
     "inputWidgets": {},
     "nuid": "9ee6f1cd-d665-4f0d-b5af-77d0420532c1",
     "showTitle": false,
     "title": ""
    }
   },
   "outputs": [],
   "source": [
    "# Set categories data\n",
    "course_categories_data = [\n",
    "    {\n",
    "        \"category_id\"   : 1,\n",
    "        \"category_name\" : \"Technology\"\n",
    "    },\n",
    "    {\n",
    "        \"category_id\"   : 2,\n",
    "        \"category_name\" : \"Business\"\n",
    "    },\n",
    "    {\n",
    "        \"category_id\"   : 3,\n",
    "        \"category_name\" : \"Art\"\n",
    "    },\n",
    "    {\n",
    "        \"category_id\"   : 4,\n",
    "        \"category_name\" : \"Science\"\n",
    "    },\n",
    "    {\n",
    "        \"category_id\"   : 5,\n",
    "        \"category_name\" : \"Health\"\n",
    "    }\n",
    "]\n",
    "\n",
    "# Set levels data\n",
    "course_levels_data = [\n",
    "    {\n",
    "        \"level_id\"      : 101,\n",
    "        \"level_name\"    : \"Beginner\"\n",
    "    },\n",
    "    {\n",
    "        \"level_id\"      : 102,\n",
    "        \"level_name\"    : \"Intermediate\"\n",
    "    },\n",
    "    {\n",
    "        \"level_id\"      : 103,\n",
    "        \"level_name\"    : \"Advanced\"\n",
    "    }\n",
    "]\n",
    "\n",
    "# Set courses data\n",
    "courses_data = {\n",
    "    \"course_id\"     : np.arange(1, 101),\n",
    "    \"course_name\"   : [f\"Course {i}\" for i in range(1, 101)],\n",
    "    \"category_id\"   : np.random.choice([1, 2, 3, 4, 5], 100),\n",
    "    \"level_id\"      : np.random.choice([101, 102, 103], 100),\n",
    "    \"start_date\"    : [datetime(2021, np.random.randint(1, 13), np.random.randint(1, 29)) for _ in range(100)]\n",
    "}\n",
    "\n",
    "# Convert to dataframe\n",
    "df_categories   = spark.createDataFrame(course_categories_data)\n",
    "df_levels       = spark.createDataFrame(course_levels_data)\n",
    "df_courses      = spark.createDataFrame(pd.DataFrame(courses_data))"
   ]
  },
  {
   "cell_type": "markdown",
   "metadata": {
    "application/vnd.databricks.v1+cell": {
     "cellMetadata": {
      "byteLimit": 2048000,
      "rowLimit": 10000
     },
     "inputWidgets": {},
     "nuid": "cd3485ef-8fb9-4b34-a2e2-271384906977",
     "showTitle": false,
     "title": ""
    }
   },
   "source": [
    "### Save data"
   ]
  },
  {
   "cell_type": "code",
   "execution_count": 0,
   "metadata": {
    "application/vnd.databricks.v1+cell": {
     "cellMetadata": {
      "byteLimit": 2048000,
      "rowLimit": 10000
     },
     "inputWidgets": {},
     "nuid": "6e1c986e-b91a-4b37-a1da-1ed1002ab39a",
     "showTitle": false,
     "title": ""
    }
   },
   "outputs": [],
   "source": [
    "# Write data into datalake\n",
    "df_categories.coalesce(1).write.mode('overwrite').option(\"header\", \"true\").csv(categories_destination_path)\n",
    "df_levels.coalesce(1).write.mode('overwrite').option(\"header\", \"true\").csv(levels_destination_path)\n",
    "df_courses.coalesce(1).write.mode('overwrite').option(\"header\", \"true\").parquet(courses_destination_path)"
   ]
  }
 ],
 "metadata": {
  "application/vnd.databricks.v1+notebook": {
   "dashboards": [],
   "language": "python",
   "notebookMetadata": {
    "pythonIndentUnit": 4
   },
   "notebookName": "generate_course_data",
   "widgets": {}
  }
 },
 "nbformat": 4,
 "nbformat_minor": 0
}
