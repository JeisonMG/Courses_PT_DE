{
 "cells": [
  {
   "cell_type": "markdown",
   "metadata": {
    "application/vnd.databricks.v1+cell": {
     "cellMetadata": {
      "byteLimit": 2048000,
      "rowLimit": 10000
     },
     "inputWidgets": {},
     "nuid": "b30e2512-aca1-4136-af25-fce30d21f883",
     "showTitle": false,
     "title": ""
    }
   },
   "source": [
    "### Libraries"
   ]
  },
  {
   "cell_type": "code",
   "execution_count": 0,
   "metadata": {
    "application/vnd.databricks.v1+cell": {
     "cellMetadata": {
      "byteLimit": 2048000,
      "rowLimit": 10000
     },
     "inputWidgets": {},
     "nuid": "2924ff7f-b1a6-4de9-bb64-ad6b7f664a2d",
     "showTitle": false,
     "title": ""
    }
   },
   "outputs": [],
   "source": [
    "from datetime import datetime"
   ]
  },
  {
   "cell_type": "markdown",
   "metadata": {
    "application/vnd.databricks.v1+cell": {
     "cellMetadata": {
      "byteLimit": 2048000,
      "rowLimit": 10000
     },
     "inputWidgets": {},
     "nuid": "c051fae8-82a9-4455-92c9-c4272502d84b",
     "showTitle": false,
     "title": ""
    }
   },
   "source": [
    "### Configure environment"
   ]
  },
  {
   "cell_type": "code",
   "execution_count": 0,
   "metadata": {
    "application/vnd.databricks.v1+cell": {
     "cellMetadata": {
      "byteLimit": 2048000,
      "rowLimit": 10000
     },
     "inputWidgets": {},
     "nuid": "d7a977c3-d294-44ae-a101-e8f2ebe6e05e",
     "showTitle": false,
     "title": ""
    }
   },
   "outputs": [],
   "source": [
    "# Datalake connection variables\n",
    "storage_account_name    = \"dlptde\"\n",
    "container_name          = \"data-pt-de\"\n",
    "sas_token               = \"sp=racwdle&st=2024-04-24T20:31:21Z&se=2024-05-04T04:31:21Z&spr=https&sv=2022-11-02&sr=c&sig=8g%2B97QOqHn9A6UebuEV0PYbJnCBfZSg2fim%2FsprqfCU%3D\"\n",
    "\n",
    "# Apply settings\n",
    "spark.conf.set(\n",
    "    f\"fs.azure.sas.{container_name}.{storage_account_name}.blob.core.windows.net\",\n",
    "    sas_token\n",
    ")\n",
    "\n",
    "# SQL connection variables\n",
    "server_name     = \"srvsql-pt-de\"\n",
    "port            = \"1433\"\n",
    "database_name   = \"sqldb-pt-de\"\n",
    "user_name       = \"read_write_user\"\n",
    "password        = \"-C2:!*Hcl4O&4e7\"\n",
    "schema_db       = \"dbo\"\n",
    "jdbc_url        = f\"jdbc:sqlserver://{server_name}.database.windows.net:{port};database={database_name}\"\n",
    "\n",
    "database_properties = {\n",
    "    \"user\": user_name,\n",
    "    \"password\": password,\n",
    "    \"driver\": \"com.microsoft.sqlserver.jdbc.SQLServerDriver\"\n",
    "}"
   ]
  },
  {
   "cell_type": "markdown",
   "metadata": {
    "application/vnd.databricks.v1+cell": {
     "cellMetadata": {
      "byteLimit": 2048000,
      "rowLimit": 10000
     },
     "inputWidgets": {},
     "nuid": "482cb7f5-d66c-40f3-b8f6-31c11bf3c1f2",
     "showTitle": false,
     "title": ""
    }
   },
   "source": [
    "### Source routes"
   ]
  },
  {
   "cell_type": "code",
   "execution_count": 0,
   "metadata": {
    "application/vnd.databricks.v1+cell": {
     "cellMetadata": {
      "byteLimit": 2048000,
      "rowLimit": 10000
     },
     "inputWidgets": {},
     "nuid": "63947778-1356-43a9-a0bc-b41ed7d82627",
     "showTitle": false,
     "title": ""
    }
   },
   "outputs": [
    {
     "output_type": "execute_result",
     "data": {
      "text/plain": [
       "'2024-04-27 02:04:52'"
      ]
     },
     "execution_count": 5,
     "metadata": {},
     "output_type": "execute_result"
    }
   ],
   "source": [
    "# Save destination paths\n",
    "comun_path                  = f\"wasbs://{container_name}@{storage_account_name}.blob.core.windows.net\"\n",
    "\n",
    "categories_destination_path = f\"{comun_path}/categories_data.csv\"\n",
    "levels_destination_path     = f\"{comun_path}/levels_data.csv\"\n",
    "courses_destination_path    = f\"{comun_path}/courses.parquet\"\n",
    "\n",
    "date_filter                 = datetime.now() # This variable can be parameterized and received as an input from the notebook\n",
    "date_filter_str             = date_filter.strftime(\"%Y-%m-%d %H:%M:%S\")\n",
    "date_filter_str"
   ]
  },
  {
   "cell_type": "markdown",
   "metadata": {
    "application/vnd.databricks.v1+cell": {
     "cellMetadata": {
      "byteLimit": 2048000,
      "rowLimit": 10000
     },
     "inputWidgets": {},
     "nuid": "ecc86976-6289-4f33-a65c-aac6f3415eb8",
     "showTitle": false,
     "title": ""
    }
   },
   "source": [
    "### Read and filter data"
   ]
  },
  {
   "cell_type": "code",
   "execution_count": 0,
   "metadata": {
    "application/vnd.databricks.v1+cell": {
     "cellMetadata": {
      "byteLimit": 2048000,
      "rowLimit": 10000
     },
     "inputWidgets": {},
     "nuid": "c5624a49-07bc-460b-a848-56e196c38dbf",
     "showTitle": false,
     "title": ""
    }
   },
   "outputs": [],
   "source": [
    "# Read, filter data and create dataframes\n",
    "df_categories     = spark.read.csv(categories_destination_path, header=True)\n",
    "df_levels         = spark.read.csv(levels_destination_path, header=True)\n",
    "df_courses        = spark.read.parquet(courses_destination_path)\n",
    "df_courses_filter = df_courses.filter(df_courses.start_date >= date_filter_str)"
   ]
  },
  {
   "cell_type": "markdown",
   "metadata": {
    "application/vnd.databricks.v1+cell": {
     "cellMetadata": {
      "byteLimit": 2048000,
      "rowLimit": 10000
     },
     "inputWidgets": {},
     "nuid": "80412534-cf91-4d50-b5db-6e2ec72762b0",
     "showTitle": false,
     "title": ""
    }
   },
   "source": [
    "### Write into azure SQL"
   ]
  },
  {
   "cell_type": "code",
   "execution_count": 0,
   "metadata": {
    "application/vnd.databricks.v1+cell": {
     "cellMetadata": {
      "byteLimit": 2048000,
      "rowLimit": 10000
     },
     "inputWidgets": {},
     "nuid": "edf32164-c0fa-4bd7-a340-141f8ae8f449",
     "showTitle": false,
     "title": ""
    }
   },
   "outputs": [],
   "source": [
    "# Write into sql(DTU)\n",
    "\n",
    "df_categories.write.jdbc(\n",
    "    url=jdbc_url, \n",
    "    table=\"dbo.categories\", \n",
    "    mode=\"overwrite\", \n",
    "    properties=database_properties\n",
    "    )\n",
    "\n",
    "df_levels.write.jdbc(\n",
    "    url=jdbc_url, \n",
    "    table=\"dbo.levels\", \n",
    "    mode=\"overwrite\", \n",
    "    properties=database_properties\n",
    "    )\n",
    "\n",
    "df_courses_filter.write.jdbc(\n",
    "    url=jdbc_url, \n",
    "    table=\"dbo.courses\", \n",
    "    mode=\"append\", \n",
    "    properties=database_properties\n",
    "    )"
   ]
  },
  {
   "cell_type": "code",
   "execution_count": 0,
   "metadata": {
    "application/vnd.databricks.v1+cell": {
     "cellMetadata": {},
     "inputWidgets": {},
     "nuid": "8e04644e-2efc-41bc-80b4-1b9f14eeacfc",
     "showTitle": false,
     "title": ""
    }
   },
   "outputs": [],
   "source": []
  }
 ],
 "metadata": {
  "application/vnd.databricks.v1+notebook": {
   "dashboards": [],
   "language": "python",
   "notebookMetadata": {
    "pythonIndentUnit": 4
   },
   "notebookName": "write_course_data_into_sql",
   "widgets": {}
  }
 },
 "nbformat": 4,
 "nbformat_minor": 0
}
